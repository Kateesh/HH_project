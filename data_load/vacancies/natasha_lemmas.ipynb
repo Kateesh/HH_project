{
 "cells": [
  {
   "cell_type": "code",
   "execution_count": 2,
   "metadata": {},
   "outputs": [],
   "source": [
    "import pandas as pd\n",
    "import json\n",
    "import ast\n",
    "from bs4 import BeautifulSoup\n",
    "from datetime import datetime\n",
    "import re"
   ]
  },
  {
   "cell_type": "code",
   "execution_count": 2,
   "metadata": {},
   "outputs": [],
   "source": [
    "from natasha import (\n",
    "    Segmenter,\n",
    "    \n",
    "    NewsEmbedding,\n",
    "    NewsMorphTagger,\n",
    "    NewsSyntaxParser,\n",
    "    \n",
    "    Doc\n",
    ")\n",
    "\n",
    "from natasha import MorphVocab"
   ]
  },
  {
   "cell_type": "code",
   "execution_count": null,
   "metadata": {},
   "outputs": [],
   "source": []
  },
  {
   "cell_type": "code",
   "execution_count": 3,
   "metadata": {},
   "outputs": [],
   "source": [
    "pd.options.display.max_columns = None"
   ]
  },
  {
   "cell_type": "code",
   "execution_count": null,
   "metadata": {},
   "outputs": [],
   "source": []
  },
  {
   "cell_type": "code",
   "execution_count": 3,
   "metadata": {},
   "outputs": [],
   "source": [
    "df3 = pd.read_csv('data_processed_add_stems.csv', encoding = 'utf-16')"
   ]
  },
  {
   "cell_type": "code",
   "execution_count": null,
   "metadata": {},
   "outputs": [],
   "source": []
  },
  {
   "cell_type": "code",
   "execution_count": 7,
   "metadata": {},
   "outputs": [
    {
     "name": "stdout",
     "output_type": "stream",
     "text": [
      "0 2022-08-29 22:46:57.293443\n",
      "100 2022-08-29 22:52:27.367826\n",
      "200 2022-08-29 22:56:24.160013\n",
      "300 2022-08-29 23:00:06.266881\n",
      "400 2022-08-29 23:03:53.435117\n"
     ]
    }
   ],
   "source": [
    "\n",
    "for i in range(500):\n",
    "    s = re.sub('[^A-Za-zА-Яа-я]+', ' ', df3.loc[i,'description'])\n",
    "    \n",
    "    desc = s\n",
    "    \n",
    "    segmenter = Segmenter()\n",
    "\n",
    "    emb = NewsEmbedding()\n",
    "    morph_tagger = NewsMorphTagger(emb)\n",
    "    syntax_parser = NewsSyntaxParser(emb)\n",
    "\n",
    "    doc = Doc(desc)\n",
    "\n",
    "    doc.segment(segmenter)\n",
    "    doc.tag_morph(morph_tagger)\n",
    "    doc.parse_syntax(syntax_parser)\n",
    "\n",
    "    \n",
    "    morph_vocab = MorphVocab()\n",
    "\n",
    "    for token in doc.tokens:\n",
    "        token.lemmatize(morph_vocab)\n",
    "    \n",
    "    lemmas = []\n",
    "    for _ in doc.tokens:\n",
    "        lemmas.append(_.lemma)\n",
    "        #print(_.lemma)\n",
    "    \n",
    "    df3.loc[i,'desc_lemma'] = ' '.join(lemmas)\n",
    "    \n",
    "    if i%100==0:\n",
    "        print(i, datetime.now())"
   ]
  },
  {
   "cell_type": "code",
   "execution_count": 8,
   "metadata": {},
   "outputs": [],
   "source": [
    "# 500 записей обрабатывается за 17 мин"
   ]
  },
  {
   "cell_type": "code",
   "execution_count": null,
   "metadata": {},
   "outputs": [],
   "source": []
  },
  {
   "cell_type": "code",
   "execution_count": 27,
   "metadata": {},
   "outputs": [],
   "source": [
    "#df3.to_csv('data_processed_stems_lemmas.csv', encoding = 'utf-16')"
   ]
  },
  {
   "cell_type": "code",
   "execution_count": null,
   "metadata": {},
   "outputs": [],
   "source": []
  },
  {
   "cell_type": "code",
   "execution_count": 9,
   "metadata": {},
   "outputs": [
    {
     "data": {
      "text/plain": [
       "0     наш поддержка с душа реагировать на каждый обр...\n",
       "1     о мы продуктовый компания основной продукт сай...\n",
       "2     в команда по развитие онлайн образование требо...\n",
       "3     блок сеть продажа курировать весь физический к...\n",
       "4     компания атк group более год успешно существов...\n",
       "5     обязанность осуществление контроль качество вы...\n",
       "6     unibase это команда профессионал работать над ...\n",
       "7     optimatica продуктовый компания мы автоматизир...\n",
       "8     обязанность обеспечение бесперебойный работа к...\n",
       "9     привет это voximplant мы создавать технология ...\n",
       "10    teamtraders готовый принять в команда тот кто ...\n",
       "Name: desc_lemma, dtype: object"
      ]
     },
     "execution_count": 9,
     "metadata": {},
     "output_type": "execute_result"
    }
   ],
   "source": [
    "df3.loc[:10, 'desc_lemma']"
   ]
  },
  {
   "cell_type": "code",
   "execution_count": null,
   "metadata": {},
   "outputs": [],
   "source": []
  },
  {
   "cell_type": "code",
   "execution_count": null,
   "metadata": {},
   "outputs": [],
   "source": []
  }
 ],
 "metadata": {
  "kernelspec": {
   "display_name": "Python 3",
   "language": "python",
   "name": "python3"
  },
  "language_info": {
   "codemirror_mode": {
    "name": "ipython",
    "version": 3
   },
   "file_extension": ".py",
   "mimetype": "text/x-python",
   "name": "python",
   "nbconvert_exporter": "python",
   "pygments_lexer": "ipython3",
   "version": "3.8.3"
  }
 },
 "nbformat": 4,
 "nbformat_minor": 4
}

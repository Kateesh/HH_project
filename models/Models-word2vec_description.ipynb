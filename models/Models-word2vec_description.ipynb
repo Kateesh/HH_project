{
 "cells": [
  {
   "cell_type": "code",
   "execution_count": 1,
   "metadata": {},
   "outputs": [],
   "source": [
    "import pandas as pd\n",
    "from datetime import datetime\n",
    "import numpy as np"
   ]
  },
  {
   "cell_type": "code",
   "execution_count": 2,
   "metadata": {},
   "outputs": [],
   "source": [
    "import pandas as pd\n",
    "import re"
   ]
  },
  {
   "cell_type": "code",
   "execution_count": 3,
   "metadata": {},
   "outputs": [],
   "source": [
    "import gensim\n",
    "from gensim.models import Word2Vec"
   ]
  },
  {
   "cell_type": "code",
   "execution_count": null,
   "metadata": {},
   "outputs": [],
   "source": []
  },
  {
   "cell_type": "code",
   "execution_count": 3,
   "metadata": {},
   "outputs": [],
   "source": [
    "pd.options.display.max_columns = None"
   ]
  },
  {
   "cell_type": "code",
   "execution_count": null,
   "metadata": {},
   "outputs": [],
   "source": []
  },
  {
   "cell_type": "code",
   "execution_count": 4,
   "metadata": {},
   "outputs": [],
   "source": [
    "df3 = pd.read_csv('data_processed_add_stems.csv', encoding = 'utf-16')"
   ]
  },
  {
   "cell_type": "code",
   "execution_count": 9,
   "metadata": {},
   "outputs": [],
   "source": [
    "resumes2 = pd.read_csv('resumes_step2_stems.csv', encoding = 'utf-16')"
   ]
  },
  {
   "cell_type": "code",
   "execution_count": null,
   "metadata": {},
   "outputs": [],
   "source": []
  },
  {
   "cell_type": "code",
   "execution_count": null,
   "metadata": {},
   "outputs": [],
   "source": []
  },
  {
   "cell_type": "code",
   "execution_count": 12,
   "metadata": {},
   "outputs": [
    {
     "data": {
      "text/html": [
       "<div>\n",
       "<style scoped>\n",
       "    .dataframe tbody tr th:only-of-type {\n",
       "        vertical-align: middle;\n",
       "    }\n",
       "\n",
       "    .dataframe tbody tr th {\n",
       "        vertical-align: top;\n",
       "    }\n",
       "\n",
       "    .dataframe thead th {\n",
       "        text-align: right;\n",
       "    }\n",
       "</style>\n",
       "<table border=\"1\" class=\"dataframe\">\n",
       "  <thead>\n",
       "    <tr style=\"text-align: right;\">\n",
       "      <th></th>\n",
       "      <th>Unnamed: 0</th>\n",
       "      <th>birth_date</th>\n",
       "      <th>gender</th>\n",
       "      <th>area</th>\n",
       "      <th>education</th>\n",
       "      <th>title</th>\n",
       "      <th>education_level</th>\n",
       "      <th>salary.amount</th>\n",
       "      <th>salary.currency</th>\n",
       "      <th>specialization</th>\n",
       "      <th>skill_set</th>\n",
       "      <th>skills_desc</th>\n",
       "      <th>exp_length</th>\n",
       "      <th>exp_description</th>\n",
       "      <th>skills_desc_stem</th>\n",
       "      <th>exp_desc_stem</th>\n",
       "    </tr>\n",
       "  </thead>\n",
       "  <tbody>\n",
       "    <tr>\n",
       "      <th>0</th>\n",
       "      <td>0</td>\n",
       "      <td>27 октября 1954</td>\n",
       "      <td>Мужчина</td>\n",
       "      <td>Москва</td>\n",
       "      <td>[{'year': 1976, 'name': 'Высшее Военное Инжене...</td>\n",
       "      <td>Организатор корпоративных охот, рыбалок и эко-...</td>\n",
       "      <td>Высшее образование</td>\n",
       "      <td>60000.0</td>\n",
       "      <td>руб.</td>\n",
       "      <td>Руководитель проектов</td>\n",
       "      <td>Работа в Фондах, НКО и ТПП, Союзах и Ассоциаци...</td>\n",
       "      <td>В работе: Аналитик.Трудоголик.  Хобби: 50 лет ...</td>\n",
       "      <td>10915.0</td>\n",
       "      <td>Руководство административно-хозяйственной деят...</td>\n",
       "      <td>в работ аналитик трудоголик хобб лет занима ох...</td>\n",
       "      <td>руководств административн хозяйствен деятельн ...</td>\n",
       "    </tr>\n",
       "    <tr>\n",
       "      <th>1</th>\n",
       "      <td>1</td>\n",
       "      <td>7 июля 1978</td>\n",
       "      <td>Мужчина</td>\n",
       "      <td>Москва</td>\n",
       "      <td>[{'year': 2002, 'name': 'Таганрогский Радиотех...</td>\n",
       "      <td>Руководитель проектов</td>\n",
       "      <td>Высшее образование</td>\n",
       "      <td>NaN</td>\n",
       "      <td>NaN</td>\n",
       "      <td>Руководитель проектов</td>\n",
       "      <td>Работоспособность</td>\n",
       "      <td>Являюсь разносторонним человеком, люблю хорошо...</td>\n",
       "      <td>7554.0</td>\n",
       "      <td>Организация рабочего процесса на объекте , вза...</td>\n",
       "      <td>явля разносторон человек любл хорош и плодотво...</td>\n",
       "      <td>организац рабоч процесс на объект взаимодейств...</td>\n",
       "    </tr>\n",
       "    <tr>\n",
       "      <th>2</th>\n",
       "      <td>2</td>\n",
       "      <td>20 января 1986</td>\n",
       "      <td>Мужчина</td>\n",
       "      <td>Москва</td>\n",
       "      <td>[{'year': 2012, 'name': 'Институт Проблем Риск...</td>\n",
       "      <td>Руководитель проекта</td>\n",
       "      <td>Высшее образование</td>\n",
       "      <td>NaN</td>\n",
       "      <td>NaN</td>\n",
       "      <td>Руководитель проектов</td>\n",
       "      <td>Автоматизация процессов,Проектное управление,О...</td>\n",
       "      <td>Системное мышление, глубокая аналитика и деком...</td>\n",
       "      <td>3732.0</td>\n",
       "      <td>Формирование бизнес требований.  Сбор информац...</td>\n",
       "      <td>системн мышлен глубок аналитик и декомпозиц пр...</td>\n",
       "      <td>формирован бизнес требован сбор информац описа...</td>\n",
       "    </tr>\n",
       "  </tbody>\n",
       "</table>\n",
       "</div>"
      ],
      "text/plain": [
       "   Unnamed: 0       birth_date   gender    area  \\\n",
       "0           0  27 октября 1954  Мужчина  Москва   \n",
       "1           1      7 июля 1978  Мужчина  Москва   \n",
       "2           2   20 января 1986  Мужчина  Москва   \n",
       "\n",
       "                                           education  \\\n",
       "0  [{'year': 1976, 'name': 'Высшее Военное Инжене...   \n",
       "1  [{'year': 2002, 'name': 'Таганрогский Радиотех...   \n",
       "2  [{'year': 2012, 'name': 'Институт Проблем Риск...   \n",
       "\n",
       "                                               title     education_level  \\\n",
       "0  Организатор корпоративных охот, рыбалок и эко-...  Высшее образование   \n",
       "1                              Руководитель проектов  Высшее образование   \n",
       "2                               Руководитель проекта  Высшее образование   \n",
       "\n",
       "   salary.amount salary.currency         specialization  \\\n",
       "0        60000.0            руб.  Руководитель проектов   \n",
       "1            NaN             NaN  Руководитель проектов   \n",
       "2            NaN             NaN  Руководитель проектов   \n",
       "\n",
       "                                           skill_set  \\\n",
       "0  Работа в Фондах, НКО и ТПП, Союзах и Ассоциаци...   \n",
       "1                                  Работоспособность   \n",
       "2  Автоматизация процессов,Проектное управление,О...   \n",
       "\n",
       "                                         skills_desc  exp_length  \\\n",
       "0  В работе: Аналитик.Трудоголик.  Хобби: 50 лет ...     10915.0   \n",
       "1  Являюсь разносторонним человеком, люблю хорошо...      7554.0   \n",
       "2  Системное мышление, глубокая аналитика и деком...      3732.0   \n",
       "\n",
       "                                     exp_description  \\\n",
       "0  Руководство административно-хозяйственной деят...   \n",
       "1  Организация рабочего процесса на объекте , вза...   \n",
       "2  Формирование бизнес требований.  Сбор информац...   \n",
       "\n",
       "                                    skills_desc_stem  \\\n",
       "0  в работ аналитик трудоголик хобб лет занима ох...   \n",
       "1  явля разносторон человек любл хорош и плодотво...   \n",
       "2  системн мышлен глубок аналитик и декомпозиц пр...   \n",
       "\n",
       "                                       exp_desc_stem  \n",
       "0  руководств административн хозяйствен деятельн ...  \n",
       "1  организац рабоч процесс на объект взаимодейств...  \n",
       "2  формирован бизнес требован сбор информац описа...  "
      ]
     },
     "execution_count": 12,
     "metadata": {},
     "output_type": "execute_result"
    }
   ],
   "source": [
    "resumes2.head(3)"
   ]
  },
  {
   "cell_type": "code",
   "execution_count": null,
   "metadata": {},
   "outputs": [],
   "source": []
  },
  {
   "cell_type": "code",
   "execution_count": 11,
   "metadata": {},
   "outputs": [
    {
     "data": {
      "text/html": [
       "<div>\n",
       "<style scoped>\n",
       "    .dataframe tbody tr th:only-of-type {\n",
       "        vertical-align: middle;\n",
       "    }\n",
       "\n",
       "    .dataframe tbody tr th {\n",
       "        vertical-align: top;\n",
       "    }\n",
       "\n",
       "    .dataframe thead th {\n",
       "        text-align: right;\n",
       "    }\n",
       "</style>\n",
       "<table border=\"1\" class=\"dataframe\">\n",
       "  <thead>\n",
       "    <tr style=\"text-align: right;\">\n",
       "      <th></th>\n",
       "      <th>Unnamed: 0</th>\n",
       "      <th>id</th>\n",
       "      <th>name</th>\n",
       "      <th>salary.from</th>\n",
       "      <th>salary.to</th>\n",
       "      <th>alternate_url</th>\n",
       "      <th>salary.currency</th>\n",
       "      <th>salary.gross</th>\n",
       "      <th>experience.name</th>\n",
       "      <th>experience.id</th>\n",
       "      <th>schedule.name</th>\n",
       "      <th>employment.name</th>\n",
       "      <th>employer.name</th>\n",
       "      <th>requirement</th>\n",
       "      <th>skills</th>\n",
       "      <th>description</th>\n",
       "      <th>prof_role</th>\n",
       "      <th>specializations</th>\n",
       "      <th>description_stem</th>\n",
       "    </tr>\n",
       "  </thead>\n",
       "  <tbody>\n",
       "    <tr>\n",
       "      <th>0</th>\n",
       "      <td>0</td>\n",
       "      <td>67716839</td>\n",
       "      <td>Специалист по работе с покупателями</td>\n",
       "      <td>50000.0</td>\n",
       "      <td>NaN</td>\n",
       "      <td>https://hh.ru/vacancy/67716839</td>\n",
       "      <td>RUR</td>\n",
       "      <td>False</td>\n",
       "      <td>От 1 года до 3 лет</td>\n",
       "      <td>between1And3</td>\n",
       "      <td>Полный день</td>\n",
       "      <td>Полная занятость</td>\n",
       "      <td>ВкусВилл</td>\n",
       "      <td>ПК или ноутбук. Устойчивый интернет.</td>\n",
       "      <td>Пользователь ПК,Грамотная речь,Поиск информаци...</td>\n",
       "      <td>Наша поддержка с душой реагирует на каждое обр...</td>\n",
       "      <td>Специалист технической поддержки</td>\n",
       "      <td>Информационные технологии, интернет, телеком</td>\n",
       "      <td>наш поддержк с душ реагир на кажд обращен и вс...</td>\n",
       "    </tr>\n",
       "    <tr>\n",
       "      <th>1</th>\n",
       "      <td>1</td>\n",
       "      <td>68539555</td>\n",
       "      <td>Frontend разработчик (junior/middle)</td>\n",
       "      <td>60000.0</td>\n",
       "      <td>120000.0</td>\n",
       "      <td>https://hh.ru/vacancy/68539555</td>\n",
       "      <td>RUR</td>\n",
       "      <td>False</td>\n",
       "      <td>От 1 года до 3 лет</td>\n",
       "      <td>between1And3</td>\n",
       "      <td>Полный день</td>\n",
       "      <td>Полная занятость</td>\n",
       "      <td>Инфоурок</td>\n",
       "      <td>HTML(5)/CSS(3), Flex, кроссбраузерность. Препр...</td>\n",
       "      <td>JavaScript,Git,jQuery,HTML5,Sass</td>\n",
       "      <td>О нас:  Продуктовая компания (основной продукт...</td>\n",
       "      <td>Программист, разработчик</td>\n",
       "      <td>Информационные технологии, интернет, телеком</td>\n",
       "      <td>о нас продуктов компан основн продукт сайт inf...</td>\n",
       "    </tr>\n",
       "    <tr>\n",
       "      <th>2</th>\n",
       "      <td>2</td>\n",
       "      <td>68731055</td>\n",
       "      <td>Корректор контента</td>\n",
       "      <td>80000.0</td>\n",
       "      <td>NaN</td>\n",
       "      <td>https://hh.ru/vacancy/68731055</td>\n",
       "      <td>RUR</td>\n",
       "      <td>True</td>\n",
       "      <td>От 1 года до 3 лет</td>\n",
       "      <td>between1And3</td>\n",
       "      <td>Удаленная работа</td>\n",
       "      <td>Полная занятость</td>\n",
       "      <td>Российская академия народного хозяйства и госу...</td>\n",
       "      <td>Знание Microsoft Office (PowerPoint, Word, Exc...</td>\n",
       "      <td>Грамотность,Грамотная речь,Работа в команде,Де...</td>\n",
       "      <td>В команду по развитию онлайн-образования требу...</td>\n",
       "      <td>Копирайтер, редактор, корректор</td>\n",
       "      <td>Искусство, развлечения, масс-медиа;Информацион...</td>\n",
       "      <td>в команд по развит онлайн образован треб специ...</td>\n",
       "    </tr>\n",
       "  </tbody>\n",
       "</table>\n",
       "</div>"
      ],
      "text/plain": [
       "   Unnamed: 0        id                                  name  salary.from  \\\n",
       "0           0  67716839   Специалист по работе с покупателями      50000.0   \n",
       "1           1  68539555  Frontend разработчик (junior/middle)      60000.0   \n",
       "2           2  68731055                    Корректор контента      80000.0   \n",
       "\n",
       "   salary.to                   alternate_url salary.currency salary.gross  \\\n",
       "0        NaN  https://hh.ru/vacancy/67716839             RUR        False   \n",
       "1   120000.0  https://hh.ru/vacancy/68539555             RUR        False   \n",
       "2        NaN  https://hh.ru/vacancy/68731055             RUR         True   \n",
       "\n",
       "      experience.name experience.id     schedule.name   employment.name  \\\n",
       "0  От 1 года до 3 лет  between1And3       Полный день  Полная занятость   \n",
       "1  От 1 года до 3 лет  between1And3       Полный день  Полная занятость   \n",
       "2  От 1 года до 3 лет  between1And3  Удаленная работа  Полная занятость   \n",
       "\n",
       "                                       employer.name  \\\n",
       "0                                           ВкусВилл   \n",
       "1                                           Инфоурок   \n",
       "2  Российская академия народного хозяйства и госу...   \n",
       "\n",
       "                                         requirement  \\\n",
       "0               ПК или ноутбук. Устойчивый интернет.   \n",
       "1  HTML(5)/CSS(3), Flex, кроссбраузерность. Препр...   \n",
       "2  Знание Microsoft Office (PowerPoint, Word, Exc...   \n",
       "\n",
       "                                              skills  \\\n",
       "0  Пользователь ПК,Грамотная речь,Поиск информаци...   \n",
       "1                   JavaScript,Git,jQuery,HTML5,Sass   \n",
       "2  Грамотность,Грамотная речь,Работа в команде,Де...   \n",
       "\n",
       "                                         description  \\\n",
       "0  Наша поддержка с душой реагирует на каждое обр...   \n",
       "1  О нас:  Продуктовая компания (основной продукт...   \n",
       "2  В команду по развитию онлайн-образования требу...   \n",
       "\n",
       "                          prof_role  \\\n",
       "0  Специалист технической поддержки   \n",
       "1          Программист, разработчик   \n",
       "2   Копирайтер, редактор, корректор   \n",
       "\n",
       "                                     specializations  \\\n",
       "0       Информационные технологии, интернет, телеком   \n",
       "1       Информационные технологии, интернет, телеком   \n",
       "2  Искусство, развлечения, масс-медиа;Информацион...   \n",
       "\n",
       "                                    description_stem  \n",
       "0  наш поддержк с душ реагир на кажд обращен и вс...  \n",
       "1  о нас продуктов компан основн продукт сайт inf...  \n",
       "2  в команд по развит онлайн образован треб специ...  "
      ]
     },
     "execution_count": 11,
     "metadata": {},
     "output_type": "execute_result"
    }
   ],
   "source": [
    "df3.head(3)"
   ]
  },
  {
   "cell_type": "code",
   "execution_count": null,
   "metadata": {},
   "outputs": [],
   "source": []
  },
  {
   "cell_type": "markdown",
   "metadata": {},
   "source": [
    "# Обучение модели"
   ]
  },
  {
   "cell_type": "code",
   "execution_count": 11,
   "metadata": {},
   "outputs": [],
   "source": [
    "w2v_model = Word2Vec(min_count=1, window=2, vector_size=300, negative=10, alpha=0.03, min_alpha=0.0007, sample=6e-5, sg=1)"
   ]
  },
  {
   "cell_type": "code",
   "execution_count": 12,
   "metadata": {},
   "outputs": [],
   "source": [
    "sentences = list(df3['description_stem'].fillna('--'))\n",
    "new_sentences = [list(i.split(' ')) for i in sentences] \n",
    "sentences = new_sentences"
   ]
  },
  {
   "cell_type": "code",
   "execution_count": 13,
   "metadata": {},
   "outputs": [
    {
     "name": "stdout",
     "output_type": "stream",
     "text": [
      "Wall time: 2min 1s\n"
     ]
    },
    {
     "data": {
      "text/plain": [
       "(10304233, 22604725)"
      ]
     },
     "execution_count": 13,
     "metadata": {},
     "output_type": "execute_result"
    }
   ],
   "source": [
    "%%time\n",
    "\n",
    "w2v_model.build_vocab(sentences)\n",
    "w2v_model.train(sentences, total_examples=w2v_model.corpus_count, epochs=5, report_delay=1)"
   ]
  },
  {
   "cell_type": "code",
   "execution_count": 15,
   "metadata": {},
   "outputs": [],
   "source": [
    "w2v_model.save(\"w2v_description.model\")"
   ]
  },
  {
   "cell_type": "code",
   "execution_count": 13,
   "metadata": {},
   "outputs": [],
   "source": [
    "w2v_model = Word2Vec.load(\"w2v_description.model\")"
   ]
  },
  {
   "cell_type": "code",
   "execution_count": null,
   "metadata": {},
   "outputs": [],
   "source": []
  },
  {
   "cell_type": "code",
   "execution_count": null,
   "metadata": {},
   "outputs": [],
   "source": []
  },
  {
   "cell_type": "code",
   "execution_count": null,
   "metadata": {},
   "outputs": [],
   "source": []
  },
  {
   "cell_type": "markdown",
   "metadata": {},
   "source": [
    "# Применение модели"
   ]
  },
  {
   "cell_type": "code",
   "execution_count": 14,
   "metadata": {},
   "outputs": [],
   "source": [
    "def clear_txt(txt):\n",
    "    stemmer = SnowballStemmer('russian')\n",
    "    txt = txt.lower()\n",
    "    txt = re.sub('[/+_!@#$0-9\\n.,:()\"\"«»;-]', ' ', txt)\n",
    "    new_txt = ''\n",
    "    for t in txt.split(' '):\n",
    "        if len(t) > 0:\n",
    "            new_txt = new_txt + stemmer.stem(t) + ' '\n",
    "    return new_txt[:-1]"
   ]
  },
  {
   "cell_type": "code",
   "execution_count": 15,
   "metadata": {},
   "outputs": [],
   "source": [
    "\n",
    "def match_description(df3, exp_desc):\n",
    "    \n",
    "    w2v_model = Word2Vec.load(\"w2v_description.model\")\n",
    "    \n",
    "    df3['description_stem'] = df3['description_stem'].fillna('--')\n",
    "    \n",
    "    sentences = list(df3['description_stem'])\n",
    "    new_sentences = [list(i.split(' ')) for i in sentences] \n",
    "    sentences = new_sentences\n",
    "\n",
    "    target_sentence = exp_desc.replace(',', ' ').lower()\n",
    "    target_sentence\n",
    "\n",
    "    \n",
    "    sentences_similarity = np.zeros(len(sentences))\n",
    "    indexes = np.zeros(len(sentences))\n",
    "\n",
    "    target_sentence_words = [w for w in target_sentence.split(' ') if w in w2v_model.wv.index_to_key]\n",
    "\n",
    "    for idx, sentence in enumerate(sentences):\n",
    "        \n",
    "        sentence_words = [w for w in sentence if w in w2v_model.wv.index_to_key]\n",
    "\n",
    "        sim = w2v_model.wv.n_similarity(target_sentence_words, sentence_words)\n",
    "        sentences_similarity[idx] = sim\n",
    "        \n",
    "        ss = ' '.join(sentence)\n",
    "        indexes[idx] = df3[df3['description_stem']==ss].index[0]\n",
    "\n",
    "    #result = list(zip(indexes, sentences_similarity, sentences))\n",
    "    result = list(zip(indexes, sentences_similarity))\n",
    "    result.sort(key=lambda item:item[1], reverse=True)\n",
    "    print(\"Target:\", target_sentence)\n",
    "    \n",
    "    df = pd.DataFrame(zip(indexes, sentences_similarity), columns=['Indexes', 'Desc_Similarity'])\n",
    "    \n",
    "    ids = []\n",
    "\n",
    "    for x in result[:5]:\n",
    "        ids.append (x[0])\n",
    "    \n",
    "    return (ids)"
   ]
  },
  {
   "cell_type": "code",
   "execution_count": null,
   "metadata": {},
   "outputs": [],
   "source": []
  },
  {
   "cell_type": "markdown",
   "metadata": {},
   "source": [
    "# Пример поиска вакансий по описанию опыта"
   ]
  },
  {
   "cell_type": "code",
   "execution_count": 16,
   "metadata": {},
   "outputs": [
    {
     "data": {
      "text/plain": [
       "'переговоры с внутренними заказчиками  выявление у них требований для модификации или разработки отчётности. работа с хранилищем данных  субд oracle. написание скрипта посредством sql для выгрузки этих данных. написание процедуры на языке pl/sql (посредством изменения заранее подготовленного шаблона) для автоматизации выгрузок и отсылки по корпоративной почте готовой отчетности заказчику.работа в компании  внедряющей решения на платформе \"1с:предприятие 8.3\" для страховых компаний. выполняемые мной задачи : меппинг таксономии  доработка конфигураций  разработка внешних печатных форм  исправление ошибок  обновление типовых и нетиповых конфигураций 1с.'"
      ]
     },
     "execution_count": 16,
     "metadata": {},
     "output_type": "execute_result"
    }
   ],
   "source": [
    "# выберем скиллы из датасета резюме\n",
    "\n",
    "target_sentence = resumes2.loc[10, 'exp_description'].replace(',', ' ').lower()\n",
    "target_sentence"
   ]
  },
  {
   "cell_type": "code",
   "execution_count": 17,
   "metadata": {},
   "outputs": [
    {
     "name": "stdout",
     "output_type": "stream",
     "text": [
      "2022-08-30 00:06:45.297434\n",
      "Target: переговор с внутрен заказчик выявлен у них требован для модификац ил разработк отч тност работ с хранилищ дан субд oracle написан скрипт посредств sql для выгрузк эт дан написан процедур на язык pl sql посредств изменен заран подготовлен шаблон для автоматизац выгрузок и отсылк по корпоративн почт готов отчетн заказчик работ в компан внедря решен на платформ с предприят для страхов компан выполня мно задач меппинг таксоном доработк конфигурац разработк внешн печатн форм исправлен ошибок обновлен типов и нетипов конфигурац с\n",
      "2022-08-30 00:13:45.976001\n"
     ]
    }
   ],
   "source": [
    "# на всех вакансиях\n",
    "\n",
    "print (datetime.now())\n",
    "\n",
    "ids = match_description(df3, 'переговор с внутрен заказчик выявлен у них требован для модификац ил разработк \\\n",
    "отч тност работ с хранилищ дан субд oracle написан скрипт посредств sql для выгрузк эт дан написан процедур \\\n",
    "на язык pl sql посредств изменен заран подготовлен шаблон для автоматизац выгрузок и отсылк по корпоративн \\\n",
    "почт готов отчетн заказчик работ в компан внедря решен на платформ с предприят для страхов компан выполня \\\n",
    "мно задач меппинг таксоном доработк конфигурац разработк внешн печатн форм исправлен ошибок обновлен типов \\\n",
    "и нетипов конфигурац с')\n",
    "\n",
    "print (datetime.now())"
   ]
  },
  {
   "cell_type": "code",
   "execution_count": 18,
   "metadata": {},
   "outputs": [
    {
     "data": {
      "text/html": [
       "<style  type=\"text/css\" >\n",
       "</style><table id=\"T_7b49163b_27df_11ed_9978_347df69a6fdb\" ><thead>    <tr>        <th class=\"col_heading level0 col0\" >name</th>        <th class=\"col_heading level0 col1\" >alternate_url</th>        <th class=\"col_heading level0 col2\" >requirement</th>    </tr></thead><tbody>\n",
       "                <tr>\n",
       "                                <td id=\"T_7b49163b_27df_11ed_9978_347df69a6fdbrow0_col0\" class=\"data row0 col0\" >Аналитик данных (Отчетность РБ)</td>\n",
       "                        <td id=\"T_7b49163b_27df_11ed_9978_347df69a6fdbrow0_col1\" class=\"data row0 col1\" >https://hh.ru/vacancy/66696168</td>\n",
       "                        <td id=\"T_7b49163b_27df_11ed_9978_347df69a6fdbrow0_col2\" class=\"data row0 col2\" >Какие знания и навыки для нас важны: Уверенные знания SQL и написание сложных запросов / процедур. Опыт работы с реляционными ХД...</td>\n",
       "            </tr>\n",
       "            <tr>\n",
       "                                <td id=\"T_7b49163b_27df_11ed_9978_347df69a6fdbrow1_col0\" class=\"data row1 col0\" >Аналитик данных</td>\n",
       "                        <td id=\"T_7b49163b_27df_11ed_9978_347df69a6fdbrow1_col1\" class=\"data row1 col1\" >https://hh.ru/vacancy/67158351</td>\n",
       "                        <td id=\"T_7b49163b_27df_11ed_9978_347df69a6fdbrow1_col2\" class=\"data row1 col2\" >Опыт работы в роди аналитика данных или системного аналитика в банке или страховой компании. Навыки программирования на SQL в части...</td>\n",
       "            </tr>\n",
       "            <tr>\n",
       "                                <td id=\"T_7b49163b_27df_11ed_9978_347df69a6fdbrow2_col0\" class=\"data row2 col0\" >Бизнес-аналитик</td>\n",
       "                        <td id=\"T_7b49163b_27df_11ed_9978_347df69a6fdbrow2_col1\" class=\"data row2 col1\" >https://hh.ru/vacancy/67634801</td>\n",
       "                        <td id=\"T_7b49163b_27df_11ed_9978_347df69a6fdbrow2_col2\" class=\"data row2 col2\" >Опыт работы Бизнес - аналитиком.</td>\n",
       "            </tr>\n",
       "            <tr>\n",
       "                                <td id=\"T_7b49163b_27df_11ed_9978_347df69a6fdbrow3_col0\" class=\"data row3 col0\" >Системный аналитик</td>\n",
       "                        <td id=\"T_7b49163b_27df_11ed_9978_347df69a6fdbrow3_col1\" class=\"data row3 col1\" >https://hh.ru/vacancy/68146282</td>\n",
       "                        <td id=\"T_7b49163b_27df_11ed_9978_347df69a6fdbrow3_col2\" class=\"data row3 col2\" >Высшее образование в одной из областей: информационные технологии, финансы, экономика. Опыт работы системным аналитиком от 1 года (выявление, фиксация, согласование...</td>\n",
       "            </tr>\n",
       "            <tr>\n",
       "                                <td id=\"T_7b49163b_27df_11ed_9978_347df69a6fdbrow4_col0\" class=\"data row4 col0\" >Аналитик данных</td>\n",
       "                        <td id=\"T_7b49163b_27df_11ed_9978_347df69a6fdbrow4_col1\" class=\"data row4 col1\" >https://hh.ru/vacancy/68792579</td>\n",
       "                        <td id=\"T_7b49163b_27df_11ed_9978_347df69a6fdbrow4_col2\" class=\"data row4 col2\" >Опыт участия в проектах по созданию и развитию DWH от 2-х лет. Опыт участия в разработке витрин данных. </td>\n",
       "            </tr>\n",
       "    </tbody></table>"
      ],
      "text/plain": [
       "<pandas.io.formats.style.Styler at 0x246e2139b50>"
      ]
     },
     "execution_count": 18,
     "metadata": {},
     "output_type": "execute_result"
    }
   ],
   "source": [
    "# requirement - \"краткое описание\" требуемого опыта, preview вакансии\n",
    "# сам матчинг проходит по полному описанию\n",
    "\n",
    "df3[df3.index.isin(ids) == True][['name', 'alternate_url', 'requirement']].style.hide_index()"
   ]
  },
  {
   "cell_type": "code",
   "execution_count": null,
   "metadata": {},
   "outputs": [],
   "source": []
  }
 ],
 "metadata": {
  "kernelspec": {
   "display_name": "Python 3",
   "language": "python",
   "name": "python3"
  },
  "language_info": {
   "codemirror_mode": {
    "name": "ipython",
    "version": 3
   },
   "file_extension": ".py",
   "mimetype": "text/x-python",
   "name": "python",
   "nbconvert_exporter": "python",
   "pygments_lexer": "ipython3",
   "version": "3.8.3"
  }
 },
 "nbformat": 4,
 "nbformat_minor": 4
}
